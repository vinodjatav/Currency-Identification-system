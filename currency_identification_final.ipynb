{
  "nbformat": 4,
  "nbformat_minor": 0,
  "metadata": {
    "colab": {
      "name": "currency_identification_final.ipynb",
      "version": "0.3.2",
      "provenance": []
    },
    "kernelspec": {
      "name": "python3",
      "display_name": "Python 3"
    },
    "accelerator": "GPU"
  },
  "cells": [
    {
      "cell_type": "code",
      "metadata": {
        "id": "k0ionie_gTnp",
        "colab_type": "code",
        "colab": {
          "base_uri": "https://localhost:8080/",
          "height": 124
        },
        "outputId": "d3458fb1-dc80-4d7c-e52a-772a0b47c7de"
      },
      "source": [
        "# Run this cell to mount your Google Drive.\n",
        "from google.colab import drive\n",
        "drive.mount('/content/drive')"
      ],
      "execution_count": 1,
      "outputs": [
        {
          "output_type": "stream",
          "text": [
            "Go to this URL in a browser: https://accounts.google.com/o/oauth2/auth?client_id=947318989803-6bn6qk8qdgf4n4g3pfee6491hc0brc4i.apps.googleusercontent.com&redirect_uri=urn%3Aietf%3Awg%3Aoauth%3A2.0%3Aoob&scope=email%20https%3A%2F%2Fwww.googleapis.com%2Fauth%2Fdocs.test%20https%3A%2F%2Fwww.googleapis.com%2Fauth%2Fdrive%20https%3A%2F%2Fwww.googleapis.com%2Fauth%2Fdrive.photos.readonly%20https%3A%2F%2Fwww.googleapis.com%2Fauth%2Fpeopleapi.readonly&response_type=code\n",
            "\n",
            "Enter your authorization code:\n",
            "··········\n",
            "Mounted at /content/drive\n"
          ],
          "name": "stdout"
        }
      ]
    },
    {
      "cell_type": "code",
      "metadata": {
        "id": "rufnwyqPJ0sb",
        "colab_type": "code",
        "outputId": "717686a2-21ed-48cc-ba14-5f4aef032868",
        "colab": {
          "base_uri": "https://localhost:8080/",
          "height": 34
        }
      },
      "source": [
        "import os\n",
        "from os import listdir, makedirs\n",
        "from os.path import join, exists, expanduser\n",
        "\n",
        "from keras import applications\n",
        "from keras.preprocessing.image import ImageDataGenerator\n",
        "from keras import optimizers\n",
        "import matplotlib.pyplot as plt\n",
        "from keras.callbacks import Callback, ModelCheckpoint\n",
        "from keras.models import Sequential, Model\n",
        "from keras.layers import Dense, GlobalAveragePooling2D\n",
        "from keras.layers import Activation, Dropout, Flatten, Dense\n",
        "from keras import backend as K\n",
        "import tensorflow as tf\n",
        "# Any results you write to the current directory are saved as output."
      ],
      "execution_count": 2,
      "outputs": [
        {
          "output_type": "stream",
          "text": [
            "Using TensorFlow backend.\n"
          ],
          "name": "stderr"
        }
      ]
    },
    {
      "cell_type": "code",
      "metadata": {
        "id": "G6cwjpReJ4gZ",
        "colab_type": "code",
        "colab": {}
      },
      "source": [
        "img_width, img_height = 224, 224 # we set the img_width and img_height according to the pretrained models we are\n",
        "# going to use. The input size for ResNet-50 is 224 by 224 by 3.\n",
        "\n",
        "train_data_dir = '/content/drive/My Drive/india_new_currency/train'\n",
        "validation_data_dir = '/content/drive/My Drive/india_new_currency/test'\n",
        "nb_train_samples = 1400\n",
        "nb_validation_samples = 350\n",
        "batch_size = 16"
      ],
      "execution_count": 0,
      "outputs": []
    },
    {
      "cell_type": "code",
      "metadata": {
        "id": "1uq5R8IkKY9X",
        "colab_type": "code",
        "outputId": "2cb2613d-16f0-41f0-ada5-377bfdaca47b",
        "colab": {
          "base_uri": "https://localhost:8080/",
          "height": 52
        }
      },
      "source": [
        "train_datagen = ImageDataGenerator(\n",
        "    rescale=1. / 255,\n",
        "    shear_range=0.2,\n",
        "    zoom_range=0.2,\n",
        "    horizontal_flip=True)\n",
        "\n",
        "test_datagen = ImageDataGenerator(rescale=1. / 255)\n",
        "\n",
        "train_generator = train_datagen.flow_from_directory(\n",
        "    train_data_dir,\n",
        "    target_size=(img_height, img_width),\n",
        "    batch_size=batch_size,\n",
        "    class_mode='categorical')\n",
        "\n",
        "validation_generator = test_datagen.flow_from_directory(\n",
        "    validation_data_dir,\n",
        "    target_size=(img_height, img_width),\n",
        "    batch_size=batch_size,\n",
        "    class_mode='categorical')"
      ],
      "execution_count": 4,
      "outputs": [
        {
          "output_type": "stream",
          "text": [
            "Found 1449 images belonging to 8 classes.\n",
            "Found 384 images belonging to 8 classes.\n"
          ],
          "name": "stdout"
        }
      ]
    },
    {
      "cell_type": "code",
      "metadata": {
        "id": "FhCJSweVKmIW",
        "colab_type": "code",
        "outputId": "85b2b5df-de17-4de6-94fb-72ea024c474b",
        "colab": {
          "base_uri": "https://localhost:8080/",
          "height": 367
        }
      },
      "source": [
        "#import inception with pre-trained weights. do not include fully #connected layers\n",
        "inception_base = applications.ResNet50(weights='imagenet', include_top=False)\n",
        "\n",
        "# add a global spatial average pooling layer\n",
        "x = inception_base.output\n",
        "x = GlobalAveragePooling2D()(x)\n",
        "# add a fully-connected layer\n",
        "x = Dense(512, activation='relu')(x)\n",
        "# and a fully connected output/classification layer\n",
        "predictions = Dense(8, activation='softmax')(x)\n",
        "# create the full network so we can train on it\n",
        "inception_transfer = Model(inputs=inception_base.input, outputs=predictions)"
      ],
      "execution_count": 5,
      "outputs": [
        {
          "output_type": "stream",
          "text": [
            "WARNING: Logging before flag parsing goes to stderr.\n",
            "W0625 16:49:06.936312 140152291051392 deprecation_wrapper.py:119] From /usr/local/lib/python3.6/dist-packages/keras/backend/tensorflow_backend.py:74: The name tf.get_default_graph is deprecated. Please use tf.compat.v1.get_default_graph instead.\n",
            "\n",
            "W0625 16:49:06.992190 140152291051392 deprecation_wrapper.py:119] From /usr/local/lib/python3.6/dist-packages/keras/backend/tensorflow_backend.py:517: The name tf.placeholder is deprecated. Please use tf.compat.v1.placeholder instead.\n",
            "\n",
            "W0625 16:49:07.003404 140152291051392 deprecation_wrapper.py:119] From /usr/local/lib/python3.6/dist-packages/keras/backend/tensorflow_backend.py:4185: The name tf.truncated_normal is deprecated. Please use tf.random.truncated_normal instead.\n",
            "\n",
            "W0625 16:49:07.048676 140152291051392 deprecation_wrapper.py:119] From /usr/local/lib/python3.6/dist-packages/keras/backend/tensorflow_backend.py:174: The name tf.get_default_session is deprecated. Please use tf.compat.v1.get_default_session instead.\n",
            "\n",
            "W0625 16:49:07.050228 140152291051392 deprecation_wrapper.py:119] From /usr/local/lib/python3.6/dist-packages/keras/backend/tensorflow_backend.py:181: The name tf.ConfigProto is deprecated. Please use tf.compat.v1.ConfigProto instead.\n",
            "\n",
            "W0625 16:49:10.096089 140152291051392 deprecation_wrapper.py:119] From /usr/local/lib/python3.6/dist-packages/keras/backend/tensorflow_backend.py:1834: The name tf.nn.fused_batch_norm is deprecated. Please use tf.compat.v1.nn.fused_batch_norm instead.\n",
            "\n",
            "W0625 16:49:10.181638 140152291051392 deprecation_wrapper.py:119] From /usr/local/lib/python3.6/dist-packages/keras/backend/tensorflow_backend.py:3976: The name tf.nn.max_pool is deprecated. Please use tf.nn.max_pool2d instead.\n",
            "\n",
            "/usr/local/lib/python3.6/dist-packages/keras_applications/resnet50.py:265: UserWarning: The output shape of `ResNet50(include_top=False)` has been changed since Keras 2.2.0.\n",
            "  warnings.warn('The output shape of `ResNet50(include_top=False)` '\n"
          ],
          "name": "stderr"
        },
        {
          "output_type": "stream",
          "text": [
            "Downloading data from https://github.com/fchollet/deep-learning-models/releases/download/v0.2/resnet50_weights_tf_dim_ordering_tf_kernels_notop.h5\n",
            "94658560/94653016 [==============================] - 4s 0us/step\n"
          ],
          "name": "stdout"
        }
      ]
    },
    {
      "cell_type": "code",
      "metadata": {
        "id": "UYvYi8dOLGAb",
        "colab_type": "code",
        "outputId": "f8cdfdfe-bf0d-4ba6-fd4f-8ab03e27f97a",
        "colab": {
          "base_uri": "https://localhost:8080/",
          "height": 72
        }
      },
      "source": [
        "inception_transfer.compile(loss='categorical_crossentropy',\n",
        "              optimizer=optimizers.SGD(lr=1e-4, momentum=0.9),\n",
        "              metrics=['accuracy'])"
      ],
      "execution_count": 6,
      "outputs": [
        {
          "output_type": "stream",
          "text": [
            "W0625 16:49:25.329909 140152291051392 deprecation_wrapper.py:119] From /usr/local/lib/python3.6/dist-packages/keras/optimizers.py:790: The name tf.train.Optimizer is deprecated. Please use tf.compat.v1.train.Optimizer instead.\n",
            "\n"
          ],
          "name": "stderr"
        }
      ]
    },
    {
      "cell_type": "code",
      "metadata": {
        "id": "EE9ei-7uLb77",
        "colab_type": "code",
        "outputId": "f8389bf5-050a-4ff6-ae13-0e91ba114b93",
        "colab": {
          "base_uri": "https://localhost:8080/",
          "height": 555
        }
      },
      "source": [
        "from tensorflow.python.client import device_lib\n",
        "print(device_lib.list_local_devices())"
      ],
      "execution_count": 7,
      "outputs": [
        {
          "output_type": "stream",
          "text": [
            "[name: \"/device:CPU:0\"\n",
            "device_type: \"CPU\"\n",
            "memory_limit: 268435456\n",
            "locality {\n",
            "}\n",
            "incarnation: 16258152297906637760\n",
            ", name: \"/device:XLA_CPU:0\"\n",
            "device_type: \"XLA_CPU\"\n",
            "memory_limit: 17179869184\n",
            "locality {\n",
            "}\n",
            "incarnation: 10178915818468008949\n",
            "physical_device_desc: \"device: XLA_CPU device\"\n",
            ", name: \"/device:XLA_GPU:0\"\n",
            "device_type: \"XLA_GPU\"\n",
            "memory_limit: 17179869184\n",
            "locality {\n",
            "}\n",
            "incarnation: 1121976904680659186\n",
            "physical_device_desc: \"device: XLA_GPU device\"\n",
            ", name: \"/device:GPU:0\"\n",
            "device_type: \"GPU\"\n",
            "memory_limit: 11326753997\n",
            "locality {\n",
            "  bus_id: 1\n",
            "  links {\n",
            "  }\n",
            "}\n",
            "incarnation: 12868449754377465013\n",
            "physical_device_desc: \"device: 0, name: Tesla K80, pci bus id: 0000:00:04.0, compute capability: 3.7\"\n",
            "]\n"
          ],
          "name": "stdout"
        }
      ]
    },
    {
      "cell_type": "code",
      "metadata": {
        "id": "Q6HZLn94LgwM",
        "colab_type": "code",
        "outputId": "0d62d815-0ff1-46e7-bd14-824677c617ea",
        "colab": {
          "base_uri": "https://localhost:8080/",
          "height": 1000
        }
      },
      "source": [
        "callbacks = [ModelCheckpoint('imagenet', monitor='val_acc', save_best_only=True)]\n",
        "\n",
        "history = inception_transfer.fit_generator( train_generator, callbacks = callbacks, samples_per_epoch=nb_train_samples, \n",
        "                              nb_epoch=25, validation_data=validation_generator, nb_val_samples=nb_validation_samples)\n",
        "\n",
        "print('Training Completed!')"
      ],
      "execution_count": 8,
      "outputs": [
        {
          "output_type": "stream",
          "text": [
            "/usr/local/lib/python3.6/dist-packages/ipykernel_launcher.py:4: UserWarning: The semantics of the Keras 2 argument `steps_per_epoch` is not the same as the Keras 1 argument `samples_per_epoch`. `steps_per_epoch` is the number of batches to draw from the generator at each epoch. Basically steps_per_epoch = samples_per_epoch/batch_size. Similarly `nb_val_samples`->`validation_steps` and `val_samples`->`steps` arguments have changed. Update your method calls accordingly.\n",
            "  after removing the cwd from sys.path.\n",
            "/usr/local/lib/python3.6/dist-packages/ipykernel_launcher.py:4: UserWarning: Update your `fit_generator` call to the Keras 2 API: `fit_generator(<keras_pre..., callbacks=[<keras.ca..., validation_data=<keras_pre..., steps_per_epoch=87, epochs=25, validation_steps=350)`\n",
            "  after removing the cwd from sys.path.\n",
            "W0625 16:49:59.017254 140152291051392 deprecation.py:323] From /usr/local/lib/python3.6/dist-packages/tensorflow/python/ops/math_grad.py:1250: add_dispatch_support.<locals>.wrapper (from tensorflow.python.ops.array_ops) is deprecated and will be removed in a future version.\n",
            "Instructions for updating:\n",
            "Use tf.where in 2.0, which has the same broadcast rule as np.where\n"
          ],
          "name": "stderr"
        },
        {
          "output_type": "stream",
          "text": [
            "Epoch 1/25\n",
            "87/87 [==============================] - 747s 9s/step - loss: 1.7685 - acc: 0.2787 - val_loss: 1.8128 - val_acc: 0.2068\n",
            "Epoch 2/25\n",
            "87/87 [==============================] - 279s 3s/step - loss: 1.3287 - acc: 0.5065 - val_loss: 1.6394 - val_acc: 0.2896\n",
            "Epoch 3/25\n",
            "87/87 [==============================] - 280s 3s/step - loss: 1.0784 - acc: 0.6418 - val_loss: 1.4506 - val_acc: 0.3600\n",
            "Epoch 4/25\n",
            "87/87 [==============================] - 281s 3s/step - loss: 0.8597 - acc: 0.7546 - val_loss: 1.2775 - val_acc: 0.4639\n",
            "Epoch 5/25\n",
            "87/87 [==============================] - 279s 3s/step - loss: 0.6937 - acc: 0.7977 - val_loss: 1.0960 - val_acc: 0.5477\n",
            "Epoch 6/25\n",
            "87/87 [==============================] - 280s 3s/step - loss: 0.5298 - acc: 0.8586 - val_loss: 0.9808 - val_acc: 0.5900\n",
            "Epoch 7/25\n",
            "87/87 [==============================] - 276s 3s/step - loss: 0.4661 - acc: 0.8725 - val_loss: 0.8928 - val_acc: 0.6414\n",
            "Epoch 8/25\n",
            "87/87 [==============================] - 261s 3s/step - loss: 0.3702 - acc: 0.9094 - val_loss: 0.8333 - val_acc: 0.6671\n",
            "Epoch 9/25\n",
            "87/87 [==============================] - 279s 3s/step - loss: 0.3320 - acc: 0.9111 - val_loss: 0.7690 - val_acc: 0.7061\n",
            "Epoch 10/25\n",
            "87/87 [==============================] - 280s 3s/step - loss: 0.2735 - acc: 0.9391 - val_loss: 0.7143 - val_acc: 0.7304\n",
            "Epoch 11/25\n",
            "87/87 [==============================] - 277s 3s/step - loss: 0.2613 - acc: 0.9334 - val_loss: 0.6744 - val_acc: 0.7429\n",
            "Epoch 12/25\n",
            "87/87 [==============================] - 278s 3s/step - loss: 0.2072 - acc: 0.9551 - val_loss: 0.6684 - val_acc: 0.7629\n",
            "Epoch 13/25\n",
            "87/87 [==============================] - 280s 3s/step - loss: 0.1856 - acc: 0.9650 - val_loss: 0.5891 - val_acc: 0.7782\n",
            "Epoch 14/25\n",
            "87/87 [==============================] - 279s 3s/step - loss: 0.1706 - acc: 0.9677 - val_loss: 0.5687 - val_acc: 0.7984\n",
            "Epoch 15/25\n",
            "87/87 [==============================] - 279s 3s/step - loss: 0.1525 - acc: 0.9671 - val_loss: 0.5950 - val_acc: 0.7771\n",
            "Epoch 16/25\n",
            "87/87 [==============================] - 278s 3s/step - loss: 0.1386 - acc: 0.9800 - val_loss: 0.5610 - val_acc: 0.7900\n",
            "Epoch 17/25\n",
            "87/87 [==============================] - 278s 3s/step - loss: 0.1307 - acc: 0.9757 - val_loss: 0.4993 - val_acc: 0.8146\n",
            "Epoch 18/25\n",
            "87/87 [==============================] - 279s 3s/step - loss: 0.1018 - acc: 0.9806 - val_loss: 0.5053 - val_acc: 0.8211\n",
            "Epoch 19/25\n",
            "87/87 [==============================] - 280s 3s/step - loss: 0.1121 - acc: 0.9763 - val_loss: 0.5180 - val_acc: 0.8193\n",
            "Epoch 20/25\n",
            "87/87 [==============================] - 278s 3s/step - loss: 0.0895 - acc: 0.9885 - val_loss: 0.5226 - val_acc: 0.8152\n",
            "Epoch 21/25\n",
            "87/87 [==============================] - 280s 3s/step - loss: 0.0855 - acc: 0.9878 - val_loss: 0.4765 - val_acc: 0.8391\n",
            "Epoch 22/25\n",
            "87/87 [==============================] - 279s 3s/step - loss: 0.0722 - acc: 0.9885 - val_loss: 0.4610 - val_acc: 0.8413\n",
            "Epoch 23/25\n",
            "87/87 [==============================] - 279s 3s/step - loss: 0.0643 - acc: 0.9907 - val_loss: 0.4202 - val_acc: 0.8570\n",
            "Epoch 24/25\n",
            "87/87 [==============================] - 279s 3s/step - loss: 0.0695 - acc: 0.9871 - val_loss: 0.5095 - val_acc: 0.8254\n",
            "Epoch 25/25\n",
            "87/87 [==============================] - 280s 3s/step - loss: 0.0628 - acc: 0.9914 - val_loss: 0.4060 - val_acc: 0.8607\n",
            "Training Completed!\n"
          ],
          "name": "stdout"
        }
      ]
    },
    {
      "cell_type": "code",
      "metadata": {
        "id": "W_bv6Bv_LmXi",
        "colab_type": "code",
        "outputId": "e1eb4842-bc19-4f17-e260-3d77c7c2afc5",
        "colab": {
          "base_uri": "https://localhost:8080/",
          "height": 312
        }
      },
      "source": [
        "# list all data in history\n",
        "print(history.history.keys())\n",
        "# summarize history for accuracy\n",
        "plt.plot(history.history['acc'])\n",
        "plt.plot(history.history['val_acc'])\n",
        "plt.title('model accuracy')\n",
        "plt.ylabel('accuracy')\n",
        "plt.xlabel('epoch')\n",
        "plt.legend(['train', 'test'], loc='upper left')\n",
        "plt.show()"
      ],
      "execution_count": 9,
      "outputs": [
        {
          "output_type": "stream",
          "text": [
            "dict_keys(['val_loss', 'val_acc', 'loss', 'acc'])\n"
          ],
          "name": "stdout"
        },
        {
          "output_type": "display_data",
          "data": {
            "image/png": "[encoded data removed]",
            "text/plain": [
              "<Figure size 432x288 with 1 Axes>"
            ]
          },
          "metadata": {
            "tags": []
          }
        }
      ]
    },
    {
      "cell_type": "code",
      "metadata": {
        "id": "cYiqLJqKkwm7",
        "colab_type": "code",
        "outputId": "77bc7d29-9d3e-4749-b75e-912792ed97d3",
        "colab": {
          "base_uri": "https://localhost:8080/",
          "height": 295
        }
      },
      "source": [
        "# summarize history for loss\n",
        "plt.plot(history.history['loss'])\n",
        "plt.plot(history.history['val_loss'])\n",
        "plt.title('model loss')\n",
        "plt.ylabel('loss')\n",
        "plt.xlabel('epoch')\n",
        "plt.legend(['train', 'test'], loc='upper left')\n",
        "plt.show()"
      ],
      "execution_count": 10,
      "outputs": [
        {
          "output_type": "display_data",
          "data": {
            "image/png": "[encoded data removed]",
            "text/plain": [
              "<Figure size 432x288 with 1 Axes>"
            ]
          },
          "metadata": {
            "tags": []
          }
        }
      ]
    },
    {
      "cell_type": "code",
      "metadata": {
        "id": "X2VgCMTClIJD",
        "colab_type": "code",
        "colab": {}
      },
      "source": [
        "from keras.models import load_model\n",
        "\n",
        "inception_transfer.save('my_model.h5')  # creates a HDF5 file 'my_model.h5'\n",
        "del inception_transfer  # deletes the existing model\n",
        "\n",
        "# returns a compiled model\n",
        "# identical to the previous one\n",
        "model = load_model('my_model.h5')"
      ],
      "execution_count": 0,
      "outputs": []
    },
    {
      "cell_type": "code",
      "metadata": {
        "id": "p6MUlIaMCBLB",
        "colab_type": "code",
        "colab": {}
      },
      "source": [
        ""
      ],
      "execution_count": 0,
      "outputs": []
    }
  ]
}